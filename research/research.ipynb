{
 "cells": [
  {
   "cell_type": "code",
   "execution_count": 1,
   "metadata": {},
   "outputs": [],
   "source": [
    "# ! pip install langchain"
   ]
  },
  {
   "cell_type": "code",
   "execution_count": 2,
   "metadata": {},
   "outputs": [],
   "source": [
    "# Load Data"
   ]
  },
  {
   "cell_type": "code",
   "execution_count": 33,
   "metadata": {},
   "outputs": [],
   "source": [
    "from langchain.document_loaders import TextLoader"
   ]
  },
  {
   "cell_type": "code",
   "execution_count": 34,
   "metadata": {},
   "outputs": [
    {
     "name": "stdout",
     "output_type": "stream",
     "text": [
      "<class 'list'>\n",
      "<class 'langchain.schema.document.Document'>\n",
      "<class 'str'>\n"
     ]
    }
   ],
   "source": [
    "loader = TextLoader(\"text.txt\")\n",
    "data = loader.load()\n",
    "print(type(data))\n",
    "print(type(data[0]))\n",
    "print(type(data[0].page_content))"
   ]
  },
  {
   "cell_type": "code",
   "execution_count": 35,
   "metadata": {},
   "outputs": [
    {
     "data": {
      "text/plain": [
       "[Document(page_content='Do you think you got enough sleep this past week? Can you recall the last time\\nyou woke up without an alarm clock feeling refreshed, not needing caffeine? If the\\nanswer to either of these questions is “no,” you are not alone. Two-thirds of adults\\nthroughout all developed nations fail to obtain the recommended eight hours of\\nnightly sleep. I\\nI doubt you are surprised by this fact, but you may be surprised by the\\nconsequences. Routinely sleeping less than six or seven hours a night demolishes\\nyour immune system, more than doubling your risk of cancer. Insufficient sleep is\\na key lifestyle factor determining whether or not you will develop Alzheimer’s\\ndisease. Inadequate sleep—even moderate reductions for just one week—disrupts\\nblood sugar levels so profoundly that you would be classified as pre-diabetic.\\nShort sleeping increases the likelihood of your coronary arteries becoming\\nblocked and brittle, setting you on a path toward cardiovascular disease, stroke,\\nand congestive heart failure. Fitting Charlotte Brontë’s prophetic wisdom that “a\\nruffled mind makes a restless pillow,” sleep disruption further contributes to all\\nmajor psychiatric conditions, including depression, anxiety, and suicidality.\\nPerhaps you have also noticed a desire to eat more when you’re tired? This is\\nno coincidence. Too little sleep swells concentrations of a hormone that makes\\nyou feel hungry while suppressing a companion hormone that otherwise signals\\nfood satisfaction. Despite being full, you still want to eat more. It’s a proven recipe\\nfor weight gain in sleep-deficient adults and children alike. Worse, should you\\n\\nWorse, should you\\nattempt to diet but don’t get enough sleep while doing so, it is futile, since most of\\nthe weight you lose will come from lean body mass, not fat.\\nAdd the above health consequences up, and a proven link becomes easier to\\naccept: the shorter your sleep, the shorter your life span. The old maxim “I’ll sleep\\nwhen I’m dead” is therefore unfortunate. Adopt this mind-set, and you will be\\ndead sooner and the quality of that (shorter) life will be worse. The elastic band of\\nsleep deprivation can stretch only so far before it snaps. Sadly, human beings are\\nin fact the only species that will deliberately deprive themselves of sleep without\\nlegitimate gain. Every component of wellness, and countless seams of societal\\nfabric, are being eroded by our costly state of sleep neglect: human and financial\\nalike. So much so that the World Health Organization (WHO) has now declared a\\nhttps://www.8freebooks.netsleep loss epidemic throughout industrialized nations. II It is no coincidence that \\n\\ncountries where sleep time has declined most dramatically over the past century,\\nsuch as the US, the UK, Japan, and South Korea, and several in western Europe,\\nare also those suffering the greatest increase in rates of the aforementioned\\nphysical diseases and mental disorders.\\nScientists such as myself have even started lobbying doctors to start\\n“prescribing” sleep. As medical advice goes, it’s perhaps the most painless and\\nenjoyable to follow. Do not, however, mistake this as a plea to doctors to start\\nprescribing more sleeping pills—quite the opposite, in fact, considering the\\nalarming evidence surrounding the deleterious health consequences of these\\ndrugs.\\nBut can we go so far as to say that a lack of sleep can kill you outright?\\nActually, yes—on at least two counts. First, there is a very rare genetic disorder\\nthat starts with a progressive insomnia, emerging in midlife. Several months into\\nthe disease course, the patient stops sleeping altogether. By this stage, they have\\nstarted to lose many basic brain and body functions. No drugs that we currently\\nhave will help the patient sleep. After twelve to eighteen months of no sleep, the\\npatient will die. Though exceedingly rare, this disorder asserts that a lack of sleep\\ncan kill a human being.', metadata={'source': 'text.txt'})]"
      ]
     },
     "execution_count": 35,
     "metadata": {},
     "output_type": "execute_result"
    }
   ],
   "source": [
    "data"
   ]
  },
  {
   "cell_type": "code",
   "execution_count": 36,
   "metadata": {},
   "outputs": [
    {
     "data": {
      "text/plain": [
       "{'source': 'text.txt'}"
      ]
     },
     "execution_count": 36,
     "metadata": {},
     "output_type": "execute_result"
    }
   ],
   "source": [
    "data[0].metadata"
   ]
  },
  {
   "cell_type": "code",
   "execution_count": 37,
   "metadata": {},
   "outputs": [
    {
     "data": {
      "text/plain": [
       "'Do you think you got enough sleep this past week? Can you recall the last time\\nyou woke up without an alarm clock feeling refreshed, not needing caffeine? If the\\nanswer to either of these questions is “no,” you are not alone. Two-thirds of adults\\nthroughout all developed nations fail to obtain the recommended eight hours of\\nnightly sleep. I\\nI doubt you are surprised by this fact, but you may be surprised by the\\nconsequences. Routinely sleeping less than six or seven hours a night demolishes\\nyour immune system, more than doubling your risk of cancer. Insufficient sleep is\\na key lifestyle factor determining whether or not you will develop Alzheimer’s\\ndisease. Inadequate sleep—even moderate reductions for just one week—disrupts\\nblood sugar levels so profoundly that you would be classified as pre-diabetic.\\nShort sleeping increases the likelihood of your coronary arteries becoming\\nblocked and brittle, setting you on a path toward cardiovascular disease, stroke,\\nand congestive heart failure. Fitting Charlotte Brontë’s prophetic wisdom that “a\\nruffled mind makes a restless pillow,” sleep disruption further contributes to all\\nmajor psychiatric conditions, including depression, anxiety, and suicidality.\\nPerhaps you have also noticed a desire to eat more when you’re tired? This is\\nno coincidence. Too little sleep swells concentrations of a hormone that makes\\nyou feel hungry while suppressing a companion hormone that otherwise signals\\nfood satisfaction. Despite being full, you still want to eat more. It’s a proven recipe\\nfor weight gain in sleep-deficient adults and children alike. Worse, should you\\n\\nWorse, should you\\nattempt to diet but don’t get enough sleep while doing so, it is futile, since most of\\nthe weight you lose will come from lean body mass, not fat.\\nAdd the above health consequences up, and a proven link becomes easier to\\naccept: the shorter your sleep, the shorter your life span. The old maxim “I’ll sleep\\nwhen I’m dead” is therefore unfortunate. Adopt this mind-set, and you will be\\ndead sooner and the quality of that (shorter) life will be worse. The elastic band of\\nsleep deprivation can stretch only so far before it snaps. Sadly, human beings are\\nin fact the only species that will deliberately deprive themselves of sleep without\\nlegitimate gain. Every component of wellness, and countless seams of societal\\nfabric, are being eroded by our costly state of sleep neglect: human and financial\\nalike. So much so that the World Health Organization (WHO) has now declared a\\nhttps://www.8freebooks.netsleep loss epidemic throughout industrialized nations. II It is no coincidence that \\n\\ncountries where sleep time has declined most dramatically over the past century,\\nsuch as the US, the UK, Japan, and South Korea, and several in western Europe,\\nare also those suffering the greatest increase in rates of the aforementioned\\nphysical diseases and mental disorders.\\nScientists such as myself have even started lobbying doctors to start\\n“prescribing” sleep. As medical advice goes, it’s perhaps the most painless and\\nenjoyable to follow. Do not, however, mistake this as a plea to doctors to start\\nprescribing more sleeping pills—quite the opposite, in fact, considering the\\nalarming evidence surrounding the deleterious health consequences of these\\ndrugs.\\nBut can we go so far as to say that a lack of sleep can kill you outright?\\nActually, yes—on at least two counts. First, there is a very rare genetic disorder\\nthat starts with a progressive insomnia, emerging in midlife. Several months into\\nthe disease course, the patient stops sleeping altogether. By this stage, they have\\nstarted to lose many basic brain and body functions. No drugs that we currently\\nhave will help the patient sleep. After twelve to eighteen months of no sleep, the\\npatient will die. Though exceedingly rare, this disorder asserts that a lack of sleep\\ncan kill a human being.'"
      ]
     },
     "execution_count": 37,
     "metadata": {},
     "output_type": "execute_result"
    }
   ],
   "source": [
    "data[0].page_content"
   ]
  },
  {
   "cell_type": "code",
   "execution_count": 38,
   "metadata": {},
   "outputs": [],
   "source": [
    "from langchain.document_loaders.csv_loader import CSVLoader"
   ]
  },
  {
   "cell_type": "code",
   "execution_count": 39,
   "metadata": {},
   "outputs": [],
   "source": [
    "loader_csv = CSVLoader(\"sample.csv\",source_column=\"Year\")"
   ]
  },
  {
   "cell_type": "code",
   "execution_count": 40,
   "metadata": {},
   "outputs": [],
   "source": [
    "data_csv = loader_csv.load()"
   ]
  },
  {
   "cell_type": "code",
   "execution_count": 41,
   "metadata": {},
   "outputs": [
    {
     "data": {
      "text/plain": [
       "'Year: 2021\\nIndustry_aggregation_NZSIOC: Level 1\\nIndustry_code_NZSIOC: 99999\\nIndustry_name_NZSIOC: All industries\\nUnits: Dollars (millions)\\nVariable_code: H01\\nVariable_name: Total income\\nVariable_category: Financial performance\\nValue: 757,504\\nIndustry_code_ANZSIC06: ANZSIC06 divisions A-S (excluding classes K6330, L6711, O7552, O760, O771, O772, S9540, S9601, S9602, and S9603)'"
      ]
     },
     "execution_count": 41,
     "metadata": {},
     "output_type": "execute_result"
    }
   ],
   "source": [
    "data_csv[0].page_content"
   ]
  },
  {
   "cell_type": "code",
   "execution_count": 42,
   "metadata": {},
   "outputs": [],
   "source": [
    "# import data from urls\n",
    "from langchain.document_loaders import UnstructuredURLLoader\n",
    "# ! pip install unstructured"
   ]
  },
  {
   "cell_type": "code",
   "execution_count": 43,
   "metadata": {},
   "outputs": [],
   "source": [
    "loader_url = UnstructuredURLLoader(urls=\n",
    "    [\"https://www.muscleandfitness.com/features/feature-news/joey-swoll-hilariously-surprises-girl-as-she-films-herself-flexing/\",\n",
    "    \"https://www.muscleandfitness.com/flexonline/flex-news/lessons-being-learned-on-bodybuildings-best-podcasts/\"]\n",
    "    )"
   ]
  },
  {
   "cell_type": "code",
   "execution_count": 44,
   "metadata": {},
   "outputs": [],
   "source": [
    "data_url = loader_url.load()"
   ]
  },
  {
   "cell_type": "code",
   "execution_count": 45,
   "metadata": {},
   "outputs": [
    {
     "data": {
      "text/plain": [
       "Document(page_content='Muscle & Fitness logo\\n                    \\n                \\n\\t\\t\\t\\t\\t\\t\\t\\t\\n\\t\\t\\t\\t\\t\\n\\t\\t\\t\\t\\t\\tWorkoutsWorkouts\\n\\n\\tWorkout Routines\\n\\tWorkout Tips\\n\\tFitness\\n\\tAthlete/Celebrity Workouts\\n\\tExercise Videos\\n\\n\\n\\t\\t\\t\\t\\t\\t\\t\\t\\tFind Exercises Targeting…\\n\\t\\t\\t\\t\\t\\t\\t\\t\\tAbs and Core ExercisesArm ExercisesBack ExercisesChest ExercisesLeg ExercisesShoulder Exercises\\n\\t\\t\\t\\t\\t\\t\\t\\t\\nNutritionNutrition\\n\\n\\tHealthy Eating\\n\\tLose Fat\\n\\tGain Mass\\n\\tSupplements\\n\\tPerformance Nutrition\\n\\n\\n\\n\\t\\n\\t\\t\\n\\t\\t\\t\\t\\t\\n\\t\\n\\t\\n\\t\\t\\t\\t\\t\\tHealthy Eating\\n\\t\\t\\t\\t\\t\\t\\t\\n\\t\\t\\t11 Unique High-Protein Foods You Should Try\\n\\t\\t\\n\\t\\n\\n\\n\\n\\n\\t\\n\\t\\t\\n\\t\\t\\t\\t\\t\\n\\t\\n\\t\\n\\t\\t\\t\\t\\t\\tHealthy Eating\\n\\t\\t\\t\\t\\t\\t\\t\\n\\t\\t\\tFeeling Food Fatigued? Here Are Some Reasons Why\\n\\t\\t\\n\\t\\n\\n\\n\\n\\n\\t\\n\\t\\t\\n\\t\\t\\t\\t\\t\\n\\t\\n\\t\\n\\t\\t\\t\\t\\t\\tHealthy Eating\\n\\t\\t\\t\\t\\t\\t\\t\\n\\t\\t\\tFor National Pancake Day, Try This Gold Medal Protein Pancake Recipe\\n\\t\\t\\n\\t\\n\\n\\n\\n\\n\\t\\n\\t\\t\\n\\t\\t\\t\\t\\t\\n\\t\\n\\t\\n\\t\\t\\t\\t\\t\\tHealthy Eating\\n\\t\\t\\t\\t\\t\\t\\t\\n\\t\\t\\tTop 15 Best Chocolate Products To Sweeten Your Diet\\n\\t\\t\\n\\t\\n\\n\\n\\nAthletes & CelebritiesAthletes & Celebrities\\n\\n\\tNews\\n\\tInterviews\\n\\tWomen\\n\\tPro Tips\\n\\tBehind-the-Scenes\\n\\tVideos\\n\\n\\n\\n\\t\\n\\t\\t\\n\\t\\t\\t\\t\\t\\n\\t\\n\\t\\n\\t\\t\\t\\t\\t\\tInterviews\\n\\t\\t\\t\\t\\t\\t\\t\\n\\t\\t\\tAEW’s Darby Allin Recovers from Death-Defying Dives This Way\\n\\t\\t\\n\\t\\n\\n\\n\\n\\n\\t\\n\\t\\t\\n\\t\\t\\t\\t\\t\\n\\t\\n\\t\\n\\t\\t\\t\\t\\t\\tNews\\n\\t\\t\\t\\t\\t\\t\\t\\n\\t\\t\\tWWE\\'s Elimination Chamber Match 2024 Results and Highlights\\n\\t\\t\\n\\t\\n\\n\\n\\n\\n\\t\\n\\t\\t\\n\\t\\t\\t\\t\\t\\n\\t\\n\\t\\n\\t\\t\\t\\t\\t\\tInterviews\\n\\t\\t\\t\\t\\t\\t\\t\\n\\t\\t\\tNathan Florence Shares His Surf Season Training Tips\\n\\t\\t\\n\\t\\n\\n\\n\\n\\n\\t\\n\\t\\t\\n\\t\\t\\t\\t\\t\\n\\t\\n\\t\\n\\t\\t\\t\\t\\t\\tPro Tips\\n\\t\\t\\t\\t\\t\\t\\t\\n\\t\\t\\tAlex Palou Is Geared for a Third IndyCar Championship\\n\\t\\t\\n\\t\\n\\n\\n\\nFeaturesFeatures\\n\\n\\tFrom our Partners\\n\\tActive Lifestyle\\n\\tM&F: Fit to Serve\\n\\tGear\\n\\tNews\\n\\tOpinion\\n\\n\\n\\n\\t\\n\\t\\t\\n\\t\\t\\t\\t\\t\\n\\t\\n\\t\\n\\t\\t\\t\\t\\t\\tGear\\n\\t\\t\\t\\t\\t\\t\\t\\n\\t\\t\\tExhausted & Cranky? Boost Your Sleep with These Innovative Gadgets\\n\\t\\t\\n\\t\\n\\n\\n\\n\\n\\t\\n\\t\\t\\n\\t\\t\\t\\t\\t\\n\\t\\n\\t\\n\\t\\t\\t\\t\\t\\tNews\\n\\t\\t\\t\\t\\t\\t\\t\\n\\t\\t\\tHow Reneé Noe Grew Her \\'Noe Bad Vibes\\' Running Club\\n\\t\\t\\n\\t\\n\\n\\n\\n\\n\\t\\n\\t\\t\\n\\t\\t\\t\\t\\t\\n\\t\\n\\t\\n\\t\\t\\t\\t\\t\\tNews\\n\\t\\t\\t\\t\\t\\t\\t\\n\\t\\t\\tJoey Swoll surprises girl as she flexes, hilarity ensues\\n\\t\\t\\n\\t\\n\\n\\n\\n\\n\\t\\n\\t\\t\\n\\t\\t\\t\\t\\t\\n\\t\\n\\t\\n\\t\\t\\t\\t\\t\\tGear\\n\\t\\t\\t\\t\\t\\t\\t\\n\\t\\t\\tNathan Florence Packs For Long Days of Ridin’ the Waves\\n\\t\\t\\n\\t\\n\\n\\n\\nAnti-AgingAnti-Aging\\n\\n\\tFunctional Medicine\\n\\tHormone Optimization\\n\\tRecovery\\n\\tWellness\\n\\n\\n\\n\\t\\n\\t\\t\\n\\t\\t\\t\\t\\t\\n\\t\\n\\t\\n\\t\\t\\t\\t\\t\\tWellness\\n\\t\\t\\t\\t\\t\\t\\t\\n\\t\\t\\tThis Skin Care Guide Will Prepare You for All Seasons\\n\\t\\t\\n\\t\\n\\n\\n\\n\\n\\t\\n\\t\\t\\n\\t\\t\\t\\t\\t\\n\\t\\n\\t\\n\\t\\t\\t\\t\\t\\tRecovery\\n\\t\\t\\t\\t\\t\\t\\t\\n\\t\\t\\tActive Recovery for Improved Athletic Performance\\n\\t\\t\\n\\t\\n\\n\\n\\n\\n\\t\\n\\t\\t\\n\\t\\t\\t\\t\\t\\n\\t\\n\\t\\n\\t\\t\\t\\t\\t\\tAnti-Aging\\n\\t\\t\\t\\t\\t\\t\\t\\n\\t\\t\\tBest Spermidine Supplements: Review of the Top 5 Brands\\n\\t\\t\\n\\t\\n\\n\\n\\n\\n\\t\\n\\t\\t\\n\\t\\t\\t\\t\\t\\n\\t\\n\\t\\n\\t\\t\\t\\t\\t\\tFunctional Medicine\\n\\t\\t\\t\\t\\t\\t\\t\\n\\t\\t\\tMuscle Mass May be Your key to Defeating Injuries and Illness\\n\\t\\t\\n\\t\\n\\n\\n\\nFlexFlex\\n\\n\\tOlympia Coverage\\n\\tAthletes\\n\\tNutrition\\n\\tTraining\\n\\tVideos\\n\\n\\n\\n\\t\\n\\t\\t\\n\\t\\t\\t\\t\\t\\n\\t\\n\\t\\n\\t\\t\\t\\t\\t\\tNews\\n\\t\\t\\t\\t\\t\\t\\t\\n\\t\\t\\tWhy This is Edgard John-Augustin\\'s Most Important year in BodyBuilding\\n\\t\\t\\n\\t\\n\\n\\n\\n\\n\\t\\n\\t\\t\\n\\t\\t\\t\\t\\t\\n\\t\\n\\t\\n\\t\\t\\t\\t\\t\\tNews\\n\\t\\t\\t\\t\\t\\t\\t\\n\\t\\t\\tLessons Being Learned on Bodybuilding’s Best Podcasts\\n\\t\\t\\n\\t\\n\\n\\n\\n\\n\\t\\n\\t\\t\\n\\t\\t\\t\\t\\t\\n\\t\\n\\t\\n\\t\\t\\t\\t\\t\\tNews\\n\\t\\t\\t\\t\\t\\t\\t\\n\\t\\t\\tJohn Robert Cardillo Shares Why Controlling Hormones Can Lead to Weight ...\\n\\t\\t\\n\\t\\n\\n\\n\\n\\n\\t\\n\\t\\t\\n\\t\\t\\t\\t\\t\\n\\t\\n\\t\\n\\t\\t\\t\\t\\t\\tNews\\n\\t\\t\\t\\t\\t\\t\\t\\n\\t\\t\\tStart 2024 With the Best Bodybuilding Shows\\n\\t\\t\\n\\t\\n\\n\\n\\nHersHers\\n\\n\\tWorkouts\\n\\tNutrition\\n\\tSupplements\\n\\tAthletes & Celebrities\\n\\tFeatures\\n\\n\\n\\n\\t\\n\\t\\t\\n\\t\\t\\t\\t\\t\\n\\t\\n\\t\\n\\t\\t\\t\\t\\t\\tHers Features\\n\\t\\t\\t\\t\\t\\t\\t\\n\\t\\t\\t8 Tips Women Can Use to Help Keep Training During Menopause\\n\\t\\t\\n\\t\\n\\n\\n\\n\\n\\t\\n\\t\\t\\n\\t\\t\\t\\t\\t\\n\\t\\n\\t\\n\\t\\t\\t\\t\\t\\tHers Features\\n\\t\\t\\t\\t\\t\\t\\t\\n\\t\\t\\tKim Lyons Shows You How to Stay \\'Ageless\\'\\n\\t\\t\\n\\t\\n\\n\\n\\n\\n\\t\\n\\t\\t\\n\\t\\t\\t\\t\\t\\n\\t\\n\\t\\n\\t\\t\\t\\t\\t\\tHers Workouts\\n\\t\\t\\t\\t\\t\\t\\t\\n\\t\\t\\tHow Tasha Teanby Beat the Effects of Bullying Through Intense Workouts\\n\\t\\t\\n\\t\\n\\n\\n\\n\\n\\t\\n\\t\\t\\n\\t\\t\\t\\t\\t\\n\\t\\n\\t\\n\\t\\t\\t\\t\\t\\tMuscle & Fitness Hers\\n\\t\\t\\t\\t\\t\\t\\t\\n\\t\\t\\tDanielle Kelly Shares Her \\'weird\\' Post-Training Meditation Technique\\n\\t\\t\\n\\t\\n\\n\\n\\nMuscle&Fitness+Muscle&Fitness+\\nOlympiaOlympia\\n\\n\\tOlympia Coverage\\n\\tBuy Tickets\\n\\n\\n\\n\\t\\n\\t\\t\\n\\t\\t\\t\\t\\t\\n\\t\\n\\t\\n\\t\\t\\t\\t\\t\\tPro Tips\\n\\t\\t\\t\\t\\t\\t\\t\\n\\t\\t\\tCaesar Bacarella Is Building a Fitness Empire at Full Speed\\n\\t\\t\\n\\t\\n\\n\\n\\n\\n\\t\\n\\t\\t\\n\\t\\t\\t\\t\\t\\n\\t\\n\\t\\n\\t\\t\\t\\t\\t\\tInterviews\\n\\t\\t\\t\\t\\t\\t\\t\\n\\t\\t\\tWhitney Jones Can Break, But Can Never Be Broken\\n\\t\\t\\n\\t\\n\\n\\n\\n\\n\\t\\n\\t\\t\\n\\t\\t\\t\\t\\t\\n\\t\\n\\t\\n\\t\\t\\t\\t\\t\\tInterviews\\n\\t\\t\\t\\t\\t\\t\\t\\n\\t\\t\\tYarishna Ayala Shares Advice for Future Wellness Division Competitors\\n\\t\\t\\n\\t\\n\\n\\n\\n\\n\\t\\n\\t\\t\\n\\t\\t\\t\\t\\t\\n\\t\\n\\t\\n\\t\\t\\t\\t\\t\\tNews\\n\\t\\t\\t\\t\\t\\t\\t\\n\\t\\t\\tBIG RAMY WINS THE 2021 OLYMPIA!\\n\\t\\t\\n\\t\\n\\n\\n\\n\\n\\t\\t\\t\\t\\t\\t\\n\\t\\t\\t\\t\\t\\t\\t\\n\\t\\t\\t\\t\\t\\t\\t\\n                                \\t\\t\\t\\t\\t\\t\\t\\t\\tSubscribe to YouTube\\n\\t\\t\\t\\t\\t\\t\\t\\t\\t\\t\\t\\t\\t\\t\\t\\t\\tSubscribe to the Newsletter\\n\\t\\t\\t\\t\\t\\t\\t\\t\\t\\t\\t\\t\\t\\t\\t\\tTerms of Use\\n\\t\\t\\t\\t\\t\\t\\t\\tPrivacy Policy\\n\\t\\t\\t\\t\\t\\t\\t\\tCookie Policy\\n\\t\\t\\t\\t\\t\\t\\t\\tAccessibility Statement\\n\\t\\t\\t\\t\\t\\t\\t\\t\\n\\t\\t\\t\\t\\t\\t\\t\\tDo Not Sell\\n\\t\\t\\t\\t\\t\\t\\t\\t\\n\\t\\t\\t\\t\\t\\t\\t\\n\\t\\t\\t\\t\\t\\t\\n\\t\\t\\t\\t\\t\\n\\t\\t\\t\\t\\n\\n\\t\\t\\t\\t\\n\\n    \\t\\n\\t\\t\\n\\t\\t\\tWorkouts\\n\\n\\tWorkout Routines\\n\\tWorkout Tips\\n\\tFitness\\n\\tAthlete/Celebrity Workouts\\n\\tExercise Videos\\n\\n\\nNutrition\\n\\n\\tHealthy Eating\\n\\tLose Fat\\n\\tGain Mass\\n\\tSupplements\\n\\tPerformance Nutrition\\n\\n\\nAthletes & Celebrities\\n\\n\\tNews\\n\\tInterviews\\n\\tWomen\\n\\tPro Tips\\n\\tBehind-the-Scenes\\n\\tVideos\\n\\n\\nFeatures\\n\\n\\tFrom our Partners\\n\\tActive Lifestyle\\n\\tM&F: Fit to Serve\\n\\tGear\\n\\tNews\\n\\tOpinion\\n\\n\\nAnti-Aging\\n\\n\\tFunctional Medicine\\n\\tHormone Optimization\\n\\tRecovery\\n\\tWellness\\n\\n\\nFlex\\n\\n\\tOlympia Coverage\\n\\tAthletes\\n\\tNutrition\\n\\tTraining\\n\\tVideos\\n\\n\\nHers\\n\\n\\tWorkouts\\n\\tNutrition\\n\\tSupplements\\n\\tAthletes & Celebrities\\n\\tFeatures\\n\\n\\nMuscle&Fitness+\\nOlympia\\n\\n\\tOlympia Coverage\\n\\tBuy Tickets\\n\\n\\n\\t\\t\\n\\t\\n\\t\\n\\t\\t\\n\\t\\t\\t\\n\\t\\t\\t\\tResources & Highlights\\n\\n\\tTopics\\n\\tVideos\\n\\tPodcasts\\n\\tContact\\n\\tTerms of Use\\n\\tPrivacy Policy\\n\\tCookie Policy\\n\\tAccessibility Statement\\n\\tDo Not Sell\\n\\n\\n\\t\\t\\t\\n\\t\\t\\t\\n\\t\\t\\t\\tStay Connected\\n\\t\\t\\t\\t\\n\\t\\t\\t\\t\\t\\n\\n    \\n    \\n        \\n        \\n        \\n        \\n            \\n                \\n                \\n                    \\n                        \\n                            \\n                            \\n                                \\n                                    \\n                                        Newsletter Signup\\n                                        \\n                                            Stay up to date\\n                                            Sign up below to receive our newest workout routines, recipes, news stories, and offers from our partners\\n                                        \\n                                    \\n                                    \\n                                        \\n                                            \\n                                                \\n                                                \\n                                                    \\n                                                        \\n                                                    \\n                                                \\n                                                \\n                                            \\n                                        \\n                                        \\n                                            \\n                                                \\n                                                \\n                                                    \\n                                                        \\n                                                    \\n                                                \\n                                                \\n                                            \\n                                        \\n                                    \\n                                    \\n                                        \\n                                            \\n                                                \\n                                                \\n                                                    \\n                                                        I want content for:\\n                                                        \\n                                                            \\n                                                            \\n                                                                \\n                                                                Both\\n                                                            \\n                                                                \\n                                                                \\n                                                                Men\\n                                                            \\n                                                                \\n                                                                \\n                                                                Women\\n                                                            \\n                                                            \\n                                                        \\n                                                    \\n                                                \\n                                                \\n                                            \\n                                            \\n                                                \\n                                                    \\n                                                    M&F Promotions\\n                                                \\n                                                \\n                                                    \\n                                                    Muscle & Fitness HERS promotions\\n                                                \\n                                                \\n                                                    \\n                                                    Muscle & Fitness FLEX Promotions\\n                                                \\n                                            \\n                                        \\n                                        \\n                                            SUBSCRIBE\\n                                        \\n                                    \\n                                \\n                            \\n                            \\n                        \\n                    \\n                \\n                \\n            \\n        \\n    \\n\\n\\t\\t\\t\\t\\n\\t\\t\\t\\t\\n\\t\\t\\t\\t\\t\\n\\n\\tFacebook\\n\\t\\n\\n\\t\\t\\t\\t\\t\\n\\tTwitter\\n\\t\\n\\n\\t\\t\\t\\t\\t\\n\\tYoutube\\n\\t\\n\\n\\t\\t\\t\\t\\t\\n\\tPinterest\\n\\t\\n\\n\\t\\t\\t\\t\\n\\t\\t\\t\\n\\t\\t\\n\\t\\n\\n\\n\\t\\t\\t\\t\\n\\t\\t\\t\\t\\t\\n\\t\\t\\t\\t\\tOpen menu button\\n\\t\\t\\t\\t\\n\\n\\n\\t\\t\\t\\t\\n\\t\\t\\t\\t\\t\\n\\t\\t\\t\\t\\t\\tOpen search bar button\\n\\t\\t\\t\\t\\t\\t\\n\\t\\t\\t\\t\\t\\t\\t\\n\\t\\t\\t\\t\\t\\t\\n\\t\\t\\t\\t\\t\\n\\n\\t\\t\\t\\t\\t\\n\\n\\t×\\n\\t\\n\\t\\t\\n\\t\\t\\tSearch M&F\\n\\t\\t\\t\\t\\t\\t\\n\\t\\t\\t\\tSearch bar input\\n\\t\\t\\t\\t\\n\\t\\t\\t\\t\\n\\t\\t\\t\\t\\n\\t\\t\\t\\tSearch button\\n\\t\\t\\t\\n\\t\\t\\n\\n\\t\\t\\t\\t\\t\\n\\t\\t\\t\\t\\n\\t\\t\\t\\t\\tFeatured Articles\\n\\t\\t\\t\\t\\t\\n\\t\\t\\t\\t\\t\\t\\n\\n\\t\\n\\t\\t\\n\\t\\t\\t\\t\\t\\n\\t\\n\\t\\n\\t\\t\\t\\t\\t\\tHealthy Eating\\n\\t\\t\\t\\t\\t\\t\\t\\n\\t\\t\\t28-Days-to-Lean Meal Plan\\n\\t\\t\\n\\t\\tWith the right plan and the right discipline, you can get seriously shredded in just 28 days.\\n\\n        \\n        Read article\\n\\t\\n\\n\\n\\n\\n\\t\\n\\t\\t\\n\\t\\t\\t\\t\\t\\n\\t\\n\\t\\n\\t\\t\\t\\t\\t\\tWomen\\n\\t\\t\\t\\t\\t\\t\\t\\n\\t\\t\\tThe 20 Hottest Female Celebrities\\n\\t\\t\\n\\t\\tTalented stars, killer physiques.\\n\\n        \\n        Read article\\n\\t\\n\\n\\n\\n\\n\\t\\n\\t\\t\\n\\t\\t\\t\\t\\t\\n\\t\\n\\t\\n\\t\\t\\t\\t\\t\\tPro Tips\\n\\t\\t\\t\\t\\t\\t\\t\\n\\t\\t\\tThe \\'Dos\\' and \\'Don’ts\\' of Bill Gillespie’s Record-Breaking Bench Press\\n\\t\\t\\n\\t\\tAt age 62, \"Big Bill\" shares his wisdom to dominate one of the ultimate strength marks.\\n\\n        \\n        Read article\\n\\t\\n\\n\\n\\n\\n\\t\\n\\t\\t\\n\\t\\t\\t\\t\\t\\n\\t\\n\\t\\n\\t\\t\\t\\t\\t\\tGirls\\n\\t\\t\\t\\t\\t\\t\\t\\n\\t\\t\\tThe 50 Best Fitness Influencers on Instagram\\n\\t\\t\\n\\t\\tFollow these fit women we\\'re crushing on for inspiration, workout ideas, and motivation.\\n\\n        \\n        Read article\\n\\nNews\\n\\nJoey Swoll hilariously surprises girl as she films herself flexing\\n\\nThe viral judge and jury of gym etiquette can still have fun between sets.\\n\\nby\\n\\nScott \\'Future\\' Felstead\\n\\nClick to share on Facebook (Opens in new window)\\n\\nClick to share on Twitter (Opens in new window)\\n\\nClick to share on Pinterest (Opens in new window)\\n\\n\\n\\n@JoeySwoll/TikTok\\n\\nClick to share on Facebook (Opens in new window)\\n\\nClick to share on Twitter (Opens in new window)\\n\\nClick to share on Pinterest (Opens in new window)\\n\\n\\n\\nJoey Swoll has been casting a watchful eye over the often-surreal subject of gym culture for quite some time,\\xa0so it was uplifting to see a clip posted to his TikTok account this week, illustrating that one of our favorite gatekeepers of gym sanity can lighten up when the mood fits. Just remember that the next time you decide to you film yourself flexing at the gym, you might find yourself in competition with the big man himself!\\n\\nJoey Swoll, his real last name is Sergo, has dubbed himself the “CEO of Gym Positivity” as he attempts to eradicate prejudices on the gym floor. Swoll is often seen to be standing up for the underdog, explaining that neither men nor women should be harassed or made to feel like they don’t belong with everyone else who is at the gym to become the best version of themselves. His highlighting of bad gym etiquette is a subject that draws a lot of attention and fierce debate as to whether or not gym members should be filming their workouts in the first place. It is without doubt a practice accelerated by social media, where the workout footage seems to be more important that the workout itself. And, with innocent members often caught in the cross hairs of the camera lens, Swoll tries to cut through the fuss and get people to concentrate on their sets rather than their socials. Still, in one of his latest posts, Swoll decided to lift the mood by making an unexpected appearance in one ladies video content. Fortunately, it was a move that had her in hysterics.\\n\\nJoey Swoll Reserves the Right to Make a Surprise Appearance in All Gym Videos\\n\\n@thejoeyswoll\\n\\nI reserve the right to walk past any tripod and jump in all videos at the gym. #gymtok #gym #fyp\\n\\n♬ Beautiful Things – Benson Boone\\n\\nThe post, featuring an unidentified gym goer, shows her getting her flex on whole filming herself in a public gym. Seemingly eager to get in on the act, Swoll, who has 7.4 million TikTok followers, enters the frame and shocks the girl with his best front double bicep pose.\\n\\n“If I see you filming yourself flexing in the gym…. Your video is now my video,” reads the caption on Swole’s TikTok clip.\\n\\nRather than turn off the camera off or make a quick exit, the lady showed her own sense of humor by matching Swole pose for pose while laughing at the lens.\\n\\n“I reserve the right to walk past any tripod and jump in all videos at the gym,” says Swole in the post’s description.\\n\\nYou are welcome anytime, Sir!\\n\\nTopics:\\n\\nAthlete News\\n\\nBodybuilding News\\n\\nCelebrity News\\n\\nEntertainment News\\n\\nFitness News\\n\\nInfluencers\\n\\nSocial Media\\n\\nSocial Media News\\n\\nTechnology News\\n\\nWritten by\\n\\nScott \\'Future\\' Felstead\\n\\nAlso by Scott \\'Future\\' Felstead\\n\\nInterviews\\n\\nAEW’s Darby Allin Recovers from Death-Defying Dives This Way\\n\\nNews\\n\\nHow Reneé Noe Grew Her \\'Noe Bad Vibes\\' Running Club\\n\\nNewsletter Signup\\n                                        \\n                                            Stay up to date\\n                                            Sign up below to receive our newest workout routines, recipes, news stories, and offers from our partners\\n                                        \\n                                    \\n                                    \\n                                        \\n                                            \\n                                                \\n                                                \\n                                                    \\n                                                        \\n                                                    \\n                                                \\n                                                \\n                                            \\n                                        \\n                                        \\n                                            \\n                                                \\n                                                \\n                                                    \\n                                                        \\n                                                    \\n                                                \\n                                                \\n                                            \\n                                        \\n                                    \\n                                    \\n                                        \\n                                            \\n                                                \\n                                                \\n                                                    \\n                                                        I want content for:\\n                                                        \\n                                                            \\n                                                            \\n                                                                \\n                                                                Both\\n                                                            \\n                                                                \\n                                                                \\n                                                                Men\\n                                                            \\n                                                                \\n                                                                \\n                                                                Women\\n                                                            \\n                                                            \\n                                                        \\n                                                    \\n                                                \\n                                                \\n                                            \\n                                            \\n                                                \\n                                                    \\n                                                    M&F Promotions\\n                                                \\n                                                \\n                                                    \\n                                                    Muscle & Fitness HERS promotions\\n                                                \\n                                                \\n                                                    \\n                                                    Muscle & Fitness FLEX Promotions\\n                                                \\n                                            \\n                                        \\n                                        \\n                                            SUBSCRIBE\\n\\nFollow us\\n\\nFacebook\\n\\nTwitter\\n\\nYoutube\\n\\nPinterest\\n\\nHome /\\n\\nFeatures /\\n\\nNews /\\n\\nJoey Swoll hilariously surprises girl as she films herself flexing\\n\\nMuscle & Fitness logo\\n\\nWorkouts\\n\\nNutrition\\n\\nAthletes & Celebrities\\n\\nFeatures\\n\\nRecipes\\n\\nTopics\\n\\nVideos\\n\\nExercise Videos\\n\\nPodcasts\\n\\nRSS Feed\\n\\nMuscle&Fitness +\\n\\nBuy Olympia Tickets\\n\\nArchives\\n\\nSitemap\\n\\nFacebook\\n\\nTwitter\\n\\nYoutube\\n\\nPinterest\\n\\nNewsletter Signup\\n                                        \\n                                            Stay up to date\\n                                            Sign up below to receive our newest workout routines, recipes, news stories, and offers from our partners\\n                                        \\n                                    \\n                                    \\n                                        \\n                                            \\n                                                \\n                                                \\n                                                    \\n                                                        \\n                                                    \\n                                                \\n                                                \\n                                            \\n                                        \\n                                        \\n                                            \\n                                                \\n                                                \\n                                                    \\n                                                        \\n                                                    \\n                                                \\n                                                \\n                                            \\n                                        \\n                                    \\n                                    \\n                                        \\n                                            \\n                                                \\n                                                \\n                                                    \\n                                                        I want content for:\\n                                                        \\n                                                            \\n                                                            \\n                                                                \\n                                                                Both\\n                                                            \\n                                                                \\n                                                                \\n                                                                Men\\n                                                            \\n                                                                \\n                                                                \\n                                                                Women\\n                                                            \\n                                                            \\n                                                        \\n                                                    \\n                                                \\n                                                \\n                                            \\n                                            \\n                                                \\n                                                    \\n                                                    M&F Promotions\\n                                                \\n                                                \\n                                                    \\n                                                    Muscle & Fitness HERS promotions\\n                                                \\n                                                \\n                                                    \\n                                                    Muscle & Fitness FLEX Promotions\\n                                                \\n                                            \\n                                        \\n                                        \\n                                            SUBSCRIBE\\n\\nMuscleandfitness.com is part of a360media Fitness & Health Network\\n\\nContact Us\\n\\nTerms of Use\\n\\nPrivacy Policy\\n\\nCookie Policy\\n\\nDo Not Sell\\n\\nAccessibility Statement\\n\\nJW Media, LLC\\n\\nCopyright 2024 JW Media, LLC, parent company of Muscle & Fitness. All rights reserved.', metadata={'source': 'https://www.muscleandfitness.com/features/feature-news/joey-swoll-hilariously-surprises-girl-as-she-films-herself-flexing/'})"
      ]
     },
     "execution_count": 45,
     "metadata": {},
     "output_type": "execute_result"
    }
   ],
   "source": [
    "\n",
    "data_url[0]"
   ]
  },
  {
   "cell_type": "code",
   "execution_count": 46,
   "metadata": {},
   "outputs": [
    {
     "data": {
      "text/plain": [
       "{'source': 'https://www.muscleandfitness.com/features/feature-news/joey-swoll-hilariously-surprises-girl-as-she-films-herself-flexing/'}"
      ]
     },
     "execution_count": 46,
     "metadata": {},
     "output_type": "execute_result"
    }
   ],
   "source": [
    "data_url[0].metadata"
   ]
  },
  {
   "cell_type": "code",
   "execution_count": 47,
   "metadata": {},
   "outputs": [
    {
     "data": {
      "text/plain": [
       "\"\\nWhy can't we do simple string splits. We can but we have to think about not cutting words, overlap, next lines, etc. Langcgain apis make things simpler\\n\""
      ]
     },
     "execution_count": 47,
     "metadata": {},
     "output_type": "execute_result"
    }
   ],
   "source": [
    "# Split Documents, do merged splits, do some overlapping\n",
    "\"\"\"\n",
    "Why can't we do simple string splits. We can but we have to think about not cutting words, overlap, next lines, etc. Langcgain apis make things simpler\n",
    "\"\"\""
   ]
  },
  {
   "cell_type": "code",
   "execution_count": 48,
   "metadata": {},
   "outputs": [],
   "source": [
    "text = \"\"\"The 2024 bodybuilding season has been on hiatus for the holidays, but it will be back before we know it. The Arnold Classic is in less than two months, and athletes around the world are already in prep with hopes of qualifying for the 60th edition of Joe Weider’s Olympia Weekend in Las Vegas, NV on Oct. 10-13.\n",
    "\n",
    "The best way to stay in the loop is to be paying attention now, and we got you covered thanks to Olympia TV and the Muscle & Fitness YouTube channels. Here’s a glimpse at what you have to look forward to this week.\n",
    "\"\"\""
   ]
  },
  {
   "cell_type": "code",
   "execution_count": 49,
   "metadata": {},
   "outputs": [],
   "source": [
    "from langchain.text_splitter import CharacterTextSplitter"
   ]
  },
  {
   "cell_type": "code",
   "execution_count": 50,
   "metadata": {},
   "outputs": [
    {
     "name": "stderr",
     "output_type": "stream",
     "text": [
      "Created a chunk of size 311, which is longer than the specified 200\n"
     ]
    }
   ],
   "source": [
    "splitter = CharacterTextSplitter(separator=\"\\n\", chunk_size = 200, chunk_overlap = 2)\n",
    "chunks = splitter.split_text(text=text)"
   ]
  },
  {
   "cell_type": "code",
   "execution_count": 59,
   "metadata": {},
   "outputs": [
    {
     "name": "stdout",
     "output_type": "stream",
     "text": [
      "311\n",
      "The 2024 bodybuilding season has been on hiatus for the holidays, but it will be back before we know it. The Arnold Classic is in less than two months, and athletes around the world are already in prep with hopes of qualifying for the 60th edition of Joe Weider’s Olympia Weekend in Las Vegas, NV on Oct. 10-13.\n",
      "<class 'str'>\n",
      "214\n",
      "The best way to stay in the loop is to be paying attention now, and we got you covered thanks to Olympia TV and the Muscle & Fitness YouTube channels. Here’s a glimpse at what you have to look forward to this week.\n",
      "<class 'str'>\n"
     ]
    }
   ],
   "source": [
    "for chunk in chunks:\n",
    "    print(len(chunk))\n",
    "    print(chunk)\n",
    "    print(type(chunk))"
   ]
  },
  {
   "cell_type": "markdown",
   "metadata": {},
   "source": []
  },
  {
   "cell_type": "code",
   "execution_count": 52,
   "metadata": {},
   "outputs": [],
   "source": [
    "from langchain.text_splitter import RecursiveCharacterTextSplitter\n",
    "\n",
    "splitter_recu = RecursiveCharacterTextSplitter(\n",
    "    separators=[\"\\n\\n\",\"\\n\",\" \"],\n",
    "    chunk_size = 200,\n",
    "    chunk_overlap = 20\n",
    "\n",
    ")"
   ]
  },
  {
   "cell_type": "code",
   "execution_count": 61,
   "metadata": {},
   "outputs": [
    {
     "data": {
      "text/plain": [
       "list"
      ]
     },
     "execution_count": 61,
     "metadata": {},
     "output_type": "execute_result"
    }
   ],
   "source": [
    "chunks_rec = splitter_recu.split_text(text=text)\n",
    "type(chunks_rec)"
   ]
  },
  {
   "cell_type": "code",
   "execution_count": 60,
   "metadata": {},
   "outputs": [
    {
     "name": "stdout",
     "output_type": "stream",
     "text": [
      "196\n",
      "The 2024 bodybuilding season has been on hiatus for the holidays, but it will be back before we know it. The Arnold Classic is in less than two months, and athletes around the world are already in\n",
      "<class 'str'>\n",
      "129\n",
      "are already in prep with hopes of qualifying for the 60th edition of Joe Weider’s Olympia Weekend in Las Vegas, NV on Oct. 10-13.\n",
      "<class 'str'>\n",
      "192\n",
      "The best way to stay in the loop is to be paying attention now, and we got you covered thanks to Olympia TV and the Muscle & Fitness YouTube channels. Here’s a glimpse at what you have to look\n",
      "<class 'str'>\n",
      "38\n",
      "you have to look forward to this week.\n",
      "<class 'str'>\n"
     ]
    }
   ],
   "source": [
    "for chunk in chunks_rec:\n",
    "    print(len(chunk))\n",
    "    print(chunk)\n",
    "    print(type(chunk))"
   ]
  },
  {
   "cell_type": "code",
   "execution_count": 55,
   "metadata": {},
   "outputs": [],
   "source": [
    "#  Vector Database\n",
    "# Convert chunks to embeddings\n",
    "# Store them into vector database\n"
   ]
  },
  {
   "cell_type": "code",
   "execution_count": 56,
   "metadata": {},
   "outputs": [],
   "source": [
    "from sentence_transformers import SentenceTransformer"
   ]
  },
  {
   "cell_type": "code",
   "execution_count": 58,
   "metadata": {},
   "outputs": [],
   "source": [
    "encoder = SentenceTransformer(\"all-mpnet-base-v2\")\n",
    "vector = encoder.encode(chunks_rec)\n",
    "# Convert this vector to 2D"
   ]
  },
  {
   "cell_type": "code",
   "execution_count": 28,
   "metadata": {},
   "outputs": [
    {
     "data": {
      "text/plain": [
       "True"
      ]
     },
     "execution_count": 28,
     "metadata": {},
     "output_type": "execute_result"
    }
   ],
   "source": [
    "import faiss\n",
    "dim = 5\n",
    "index = faiss.IndexFlatL2(dim)\n",
    "index.is_trained"
   ]
  },
  {
   "cell_type": "code",
   "execution_count": 32,
   "metadata": {},
   "outputs": [
    {
     "data": {
      "text/plain": [
       "5"
      ]
     },
     "execution_count": 32,
     "metadata": {},
     "output_type": "execute_result"
    }
   ],
   "source": [
    "index."
   ]
  },
  {
   "cell_type": "code",
   "execution_count": null,
   "metadata": {},
   "outputs": [],
   "source": [
    "# index.add() input is embeddings\n",
    "# index.search(svec, k) k is like k nearest neighbour"
   ]
  }
 ],
 "metadata": {
  "kernelspec": {
   "display_name": "equityAnalyst",
   "language": "python",
   "name": "python3"
  },
  "language_info": {
   "codemirror_mode": {
    "name": "ipython",
    "version": 3
   },
   "file_extension": ".py",
   "mimetype": "text/x-python",
   "name": "python",
   "nbconvert_exporter": "python",
   "pygments_lexer": "ipython3",
   "version": "3.9.18"
  }
 },
 "nbformat": 4,
 "nbformat_minor": 2
}
