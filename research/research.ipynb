{
 "cells": [
  {
   "cell_type": "code",
   "execution_count": 1,
   "metadata": {},
   "outputs": [
    {
     "name": "stdout",
     "output_type": "stream",
     "text": [
      "/home/dephinate/ASU/DL/MisterRetriveRite\n"
     ]
    }
   ],
   "source": [
    "import os\n",
    "os.chdir(\"/home/dephinate/ASU/DL/MisterRetriveRite/\")\n",
    "! pwd"
   ]
  },
  {
   "cell_type": "markdown",
   "metadata": {},
   "source": [
    "Install Modules"
   ]
  },
  {
   "cell_type": "code",
   "execution_count": 2,
   "metadata": {},
   "outputs": [],
   "source": [
    "# ! pip install python-box==6.0.2\n",
    "# ! pip install ensure==1.0.2\n",
    "# ! pip install -e .\n"
   ]
  },
  {
   "cell_type": "code",
   "execution_count": 3,
   "metadata": {},
   "outputs": [],
   "source": [
    "from misterRetriveRite.config.configurations import ConfigurationManager\n"
   ]
  },
  {
   "cell_type": "code",
   "execution_count": 4,
   "metadata": {},
   "outputs": [
    {
     "name": "stdout",
     "output_type": "stream",
     "text": [
      "[2024-03-05 13:20:45,601,INFO,common,created directory at: artifacts]\n"
     ]
    }
   ],
   "source": [
    "config = ConfigurationManager()"
   ]
  },
  {
   "cell_type": "code",
   "execution_count": 5,
   "metadata": {},
   "outputs": [
    {
     "name": "stdout",
     "output_type": "stream",
     "text": [
      "ModelConfig(model_name='gpt-3.5-turbo-instruct', temperature=0.9, max_tokens=500, chunk_size=2000, chunk_overlap=100)\n",
      "[2024-03-05 13:20:46,235,INFO,common,created directory at: artifacts/vector_db]\n",
      "VectorizationConfig(root_dir='artifacts/vector_db', encoder_name='all-mpnet-base-v2', model_ckpt='None', data_path='None', k='None', num_of_cells='None', nprobe='None')\n"
     ]
    }
   ],
   "source": [
    "print(config.get_model_config())\n",
    "print(config.get_vectorization_config())"
   ]
  },
  {
   "cell_type": "markdown",
   "metadata": {},
   "source": [
    "Data Loader"
   ]
  },
  {
   "cell_type": "code",
   "execution_count": 17,
   "metadata": {},
   "outputs": [],
   "source": [
    "from langchain.document_loaders import UnstructuredURLLoader\n",
    "from misterRetriveRite.logging import logger\n",
    "class DataLoader():\n",
    "    def __init__(self) -> None:\n",
    "        pass\n",
    "    def load_from_url(self,urls: list):\n",
    "        loader = UnstructuredURLLoader(urls=urls)\n",
    "        data = loader.load()\n",
    "        logger.info(f\"Data loaded from : {urls}\")\n",
    "        return data"
   ]
  },
  {
   "cell_type": "markdown",
   "metadata": {},
   "source": [
    "Data Splitter"
   ]
  },
  {
   "cell_type": "code",
   "execution_count": 7,
   "metadata": {},
   "outputs": [],
   "source": [
    "from langchain.text_splitter import RecursiveCharacterTextSplitter\n",
    "class Splitter():\n",
    "    def __init__(self,data) -> None:\n",
    "        self.data = data\n",
    "        pass\n",
    "    def split_recursive(self, chunk_size:int,chunk_overlap:int,sperators:list[str]):\n",
    "        Splitter = RecursiveCharacterTextSplitter(\n",
    "            separators=sperators,\n",
    "            chunk_size=chunk_size,\n",
    "            chunk_overlap=chunk_overlap\n",
    "        )\n",
    "        splits = Splitter.split_documents(self.data)\n",
    "        return splits"
   ]
  },
  {
   "cell_type": "markdown",
   "metadata": {},
   "source": [
    "Vectorization"
   ]
  },
  {
   "cell_type": "code",
   "execution_count": 35,
   "metadata": {},
   "outputs": [],
   "source": [
    "from langchain.vectorstores import FAISS\n",
    "from misterRetriveRite.utils.common import pickel_dump\n",
    "import os\n",
    "\n",
    "class Vectorizer():\n",
    "    def __init__(self,data_splits) -> None:\n",
    "        self.data_splits = data_splits\n",
    "    def build_vectorindex_with_faiss_and_openai(self, save_to_local:bool,file_dir:None,file_name:None):\n",
    "        from langchain.embeddings import OpenAIEmbeddings\n",
    "        embeddings = OpenAIEmbeddings()\n",
    "        vectorindex = FAISS.from_documents(self.data_splits, embeddings)\n",
    "        if save_to_local:\n",
    "            file_path = os.path.join(file_dir,file_name)\n",
    "            pickel_dump(file_path=file_path,data=vectorindex)\n",
    "            return vectorindex\n",
    "        return vectorindex\n",
    "    \n",
    "    def build_vectorindex_with_faiss_and_huggingface(self, model_name: str,save_to_local:bool,file_dir:None,file_name:None):\n",
    "        from langchain.embeddings.huggingface import HuggingFaceBgeEmbeddings\n",
    "        embeddings = HuggingFaceBgeEmbeddings(model_name = model_name)\n",
    "        vectorindex = FAISS.from_documents(self.data_splits, embeddings)\n",
    "        if save_to_local:\n",
    "            file_path = os.path.join(file_dir,file_name)\n",
    "            pickel_dump(file_path=file_path,data=vectorindex)\n",
    "            return vectorindex\n",
    "        return vectorindex\n",
    "\n",
    "\n"
   ]
  },
  {
   "cell_type": "markdown",
   "metadata": {},
   "source": [
    "Test    \n",
    "* load\n",
    "* split\n",
    "* vectorize\n",
    "* retrieve and prompt"
   ]
  },
  {
   "cell_type": "markdown",
   "metadata": {},
   "source": [
    "Load"
   ]
  },
  {
   "cell_type": "code",
   "execution_count": 11,
   "metadata": {},
   "outputs": [
    {
     "data": {
      "text/plain": [
       "list"
      ]
     },
     "execution_count": 11,
     "metadata": {},
     "output_type": "execute_result"
    }
   ],
   "source": [
    "urls = [\"https://www.muscleandfitness.com/features/feature-news/joey-swoll-hilariously-surprises-girl-as-she-films-herself-flexing/\",\n",
    "    \"https://www.muscleandfitness.com/flexonline/flex-news/lessons-being-learned-on-bodybuildings-best-podcasts/\"\n",
    "]\n",
    "type(urls)"
   ]
  },
  {
   "cell_type": "code",
   "execution_count": 16,
   "metadata": {},
   "outputs": [
    {
     "name": "stdout",
     "output_type": "stream",
     "text": [
      "[2024-03-05 14:14:24,248,INFO,xml,Reading document from string ...]\n",
      "[2024-03-05 14:14:24,252,INFO,html,Reading document ...]\n",
      "[2024-03-05 14:14:24,902,INFO,xml,Reading document from string ...]\n",
      "[2024-03-05 14:14:24,906,INFO,html,Reading document ...]\n",
      "[2024-03-05 14:14:24,918,INFO,3548886393,Loading data from : ['https://www.muscleandfitness.com/features/feature-news/joey-swoll-hilariously-surprises-girl-as-she-films-herself-flexing/', 'https://www.muscleandfitness.com/flexonline/flex-news/lessons-being-learned-on-bodybuildings-best-podcasts/']]\n"
     ]
    }
   ],
   "source": [
    "data_loader = DataLoader()\n",
    "data = data_loader.load_from_url(urls=urls)"
   ]
  },
  {
   "cell_type": "markdown",
   "metadata": {},
   "source": [
    "Split"
   ]
  },
  {
   "cell_type": "code",
   "execution_count": 25,
   "metadata": {},
   "outputs": [],
   "source": [
    "splitter = Splitter(data=data)\n",
    "splits_rec = splitter.split_recursive(chunk_size=1000,chunk_overlap=50,sperators=['\\n\\n', '\\n', '.', ','])"
   ]
  },
  {
   "cell_type": "markdown",
   "metadata": {},
   "source": [
    "Vectorize"
   ]
  },
  {
   "cell_type": "code",
   "execution_count": 30,
   "metadata": {},
   "outputs": [
    {
     "name": "stdout",
     "output_type": "stream",
     "text": [
      "[2024-03-05 14:29:32,696,INFO,common,created directory at: artifacts]\n",
      "[2024-03-05 14:29:32,697,INFO,common,created directory at: artifacts/vector_db]\n"
     ]
    },
    {
     "data": {
      "text/plain": [
       "VectorizationConfig(root_dir='artifacts/vector_db', encoder_name='all-mpnet-base-v2', model_ckpt='None', data_path='None', k='None', num_of_cells='None', nprobe='None')"
      ]
     },
     "execution_count": 30,
     "metadata": {},
     "output_type": "execute_result"
    }
   ],
   "source": [
    "from misterRetriveRite.config.configurations import ConfigurationManager\n",
    "config = ConfigurationManager()\n",
    "vectorization_config = config.get_vectorization_config()\n",
    "vectorization_config"
   ]
  },
  {
   "cell_type": "code",
   "execution_count": 41,
   "metadata": {},
   "outputs": [
    {
     "name": "stdout",
     "output_type": "stream",
     "text": [
      "[2024-03-05 15:17:05,036,INFO,SentenceTransformer,Load pretrained SentenceTransformer: all-mpnet-base-v2]\n",
      "[2024-03-05 15:17:07,303,INFO,SentenceTransformer,Use pytorch device_name: cpu]\n"
     ]
    },
    {
     "data": {
      "application/vnd.jupyter.widget-view+json": {
       "model_id": "4e52e260ab1b452eb444c0bea5a547f9",
       "version_major": 2,
       "version_minor": 0
      },
      "text/plain": [
       "Batches:   0%|          | 0/2 [00:00<?, ?it/s]"
      ]
     },
     "metadata": {},
     "output_type": "display_data"
    },
    {
     "name": "stdout",
     "output_type": "stream",
     "text": [
      "[2024-03-05 15:17:15,027,INFO,common,created file at : artifacts/vector_db/faiss_Store_huggingface.pkl]\n"
     ]
    }
   ],
   "source": [
    "vectorizer = Vectorizer(data_splits=splits_rec)\n",
    "vector_index_huggingface = vectorizer.build_vectorindex_with_faiss_and_huggingface(model_name=vectorization_config.encoder_name, \n",
    "                                                                                   save_to_local=True,\n",
    "                                                                                   file_dir=vectorization_config.root_dir,\n",
    "                                                                                   file_name=\"faiss_Store_huggingface.pkl\")"
   ]
  },
  {
   "cell_type": "markdown",
   "metadata": {},
   "source": [
    "Prompt"
   ]
  },
  {
   "cell_type": "code",
   "execution_count": 43,
   "metadata": {},
   "outputs": [
    {
     "data": {
      "text/plain": [
       "True"
      ]
     },
     "execution_count": 43,
     "metadata": {},
     "output_type": "execute_result"
    }
   ],
   "source": [
    "from dotenv import load_dotenv\n",
    "load_dotenv(dotenv_path=\".env\")"
   ]
  },
  {
   "cell_type": "code",
   "execution_count": 3,
   "metadata": {},
   "outputs": [
    {
     "data": {
      "text/plain": [
       "True"
      ]
     },
     "execution_count": 3,
     "metadata": {},
     "output_type": "execute_result"
    }
   ],
   "source": [
    "from misterRetriveRite.utils.common import load_env\n",
    "load_env(\"\")\n"
   ]
  },
  {
   "cell_type": "code",
   "execution_count": 6,
   "metadata": {},
   "outputs": [
    {
     "ename": "NameError",
     "evalue": "name 'vector_index_huggingface' is not defined",
     "output_type": "error",
     "traceback": [
      "\u001b[0;31m---------------------------------------------------------------------------\u001b[0m",
      "\u001b[0;31mNameError\u001b[0m                                 Traceback (most recent call last)",
      "Cell \u001b[0;32mIn[6], line 5\u001b[0m\n\u001b[1;32m      2\u001b[0m \u001b[38;5;28;01mfrom\u001b[39;00m \u001b[38;5;21;01mlangchain\u001b[39;00m\u001b[38;5;21;01m.\u001b[39;00m\u001b[38;5;21;01mchains\u001b[39;00m \u001b[38;5;28;01mimport\u001b[39;00m RetrievalQAWithSourcesChain\n\u001b[1;32m      4\u001b[0m llm \u001b[38;5;241m=\u001b[39m OpenAI(temperature\u001b[38;5;241m=\u001b[39m\u001b[38;5;241m0.9\u001b[39m, max_tokens\u001b[38;5;241m=\u001b[39m\u001b[38;5;241m500\u001b[39m, model\u001b[38;5;241m=\u001b[39m\u001b[38;5;124m'\u001b[39m\u001b[38;5;124mgpt-3.5-turbo-instruct\u001b[39m\u001b[38;5;124m'\u001b[39m ) \n\u001b[0;32m----> 5\u001b[0m chain \u001b[38;5;241m=\u001b[39m RetrievalQAWithSourcesChain\u001b[38;5;241m.\u001b[39mfrom_llm(llm\u001b[38;5;241m=\u001b[39mllm, retriever\u001b[38;5;241m=\u001b[39m\u001b[43mvector_index_huggingface\u001b[49m\u001b[38;5;241m.\u001b[39mas_retriever())\n\u001b[1;32m      6\u001b[0m chain\n",
      "\u001b[0;31mNameError\u001b[0m: name 'vector_index_huggingface' is not defined"
     ]
    }
   ],
   "source": [
    "from langchain import OpenAI\n",
    "from langchain.chains import RetrievalQAWithSourcesChain\n",
    "\n",
    "llm = OpenAI(temperature=0.9, max_tokens=500, model='gpt-3.5-turbo-instruct' ) \n",
    "chain = RetrievalQAWithSourcesChain.from_llm(llm=llm, retriever=vector_index_huggingface.as_retriever())\n",
    "chain"
   ]
  },
  {
   "cell_type": "code",
   "execution_count": 2,
   "metadata": {},
   "outputs": [],
   "source": [
    "from misterRetriveRite.utils.common import *"
   ]
  },
  {
   "cell_type": "code",
   "execution_count": null,
   "metadata": {},
   "outputs": [],
   "source": [
    "pickel_dump()"
   ]
  }
 ],
 "metadata": {
  "kernelspec": {
   "display_name": "equityAnalyst",
   "language": "python",
   "name": "python3"
  },
  "language_info": {
   "codemirror_mode": {
    "name": "ipython",
    "version": 3
   },
   "file_extension": ".py",
   "mimetype": "text/x-python",
   "name": "python",
   "nbconvert_exporter": "python",
   "pygments_lexer": "ipython3",
   "version": "3.9.18"
  }
 },
 "nbformat": 4,
 "nbformat_minor": 2
}
