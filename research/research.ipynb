{
 "cells": [
  {
   "cell_type": "code",
   "execution_count": 1,
   "metadata": {},
   "outputs": [
    {
     "name": "stdout",
     "output_type": "stream",
     "text": [
      "/home/dephinate/ASU/DL/MisterRetriveRite\n"
     ]
    }
   ],
   "source": [
    "import os\n",
    "os.chdir(\"/home/dephinate/ASU/DL/MisterRetriveRite/\")\n",
    "! pwd"
   ]
  },
  {
   "cell_type": "markdown",
   "metadata": {},
   "source": [
    "Install Modules"
   ]
  },
  {
   "cell_type": "code",
   "execution_count": 2,
   "metadata": {},
   "outputs": [],
   "source": [
    "# ! pip install python-box==6.0.2\n",
    "# ! pip install ensure==1.0.2\n",
    "# ! pip install -e .\n"
   ]
  },
  {
   "cell_type": "code",
   "execution_count": 3,
   "metadata": {},
   "outputs": [],
   "source": [
    "from misterRetriveRite.config.configurations import ConfigurationManager\n"
   ]
  },
  {
   "cell_type": "code",
   "execution_count": 4,
   "metadata": {},
   "outputs": [
    {
     "name": "stdout",
     "output_type": "stream",
     "text": [
      "[2024-03-18 15:30:01,626,INFO,common,created directory at: artifacts]\n"
     ]
    }
   ],
   "source": [
    "config = ConfigurationManager()"
   ]
  },
  {
   "cell_type": "code",
   "execution_count": 5,
   "metadata": {},
   "outputs": [
    {
     "name": "stdout",
     "output_type": "stream",
     "text": [
      "ModelConfig(model_name='gpt-3.5-turbo-instruct', temperature=0.9, max_tokens=1000, chunk_size=2000, chunk_overlap=150)\n",
      "[2024-03-18 15:30:01,777,INFO,common,created directory at: artifacts/vector_db]\n",
      "VectorizationConfig(root_dir='artifacts/vector_db', db_path='artifacts/vector_db', encoder_name='all-mpnet-base-v2', model_ckpt='None', data_path='None', k='None', num_of_cells='None', nprobe='None')\n"
     ]
    }
   ],
   "source": [
    "print(config.get_model_config())\n",
    "print(config.get_vectorization_config())"
   ]
  },
  {
   "cell_type": "markdown",
   "metadata": {},
   "source": [
    "Data Loader"
   ]
  },
  {
   "cell_type": "code",
   "execution_count": 6,
   "metadata": {},
   "outputs": [
    {
     "name": "stdout",
     "output_type": "stream",
     "text": [
      "[2024-03-18 15:30:03,678,INFO,utils,Note: NumExpr detected 16 cores but \"NUMEXPR_MAX_THREADS\" not set, so enforcing safe limit of 8.]\n",
      "[2024-03-18 15:30:03,679,INFO,utils,NumExpr defaulting to 8 threads.]\n"
     ]
    }
   ],
   "source": [
    "from langchain.document_loaders import UnstructuredURLLoader\n",
    "from misterRetriveRite.logging import logger\n",
    "class DataLoader():\n",
    "    def __init__(self) -> None:\n",
    "        pass\n",
    "    def load_from_url(self,urls: list):\n",
    "        loader = UnstructuredURLLoader(urls=urls)\n",
    "        data = loader.load()\n",
    "        logger.info(f\"Data loaded from : {urls}\")\n",
    "        return data"
   ]
  },
  {
   "cell_type": "markdown",
   "metadata": {},
   "source": [
    "Data Splitter"
   ]
  },
  {
   "cell_type": "code",
   "execution_count": 7,
   "metadata": {},
   "outputs": [],
   "source": [
    "from langchain.text_splitter import RecursiveCharacterTextSplitter\n",
    "class Splitter():\n",
    "    def __init__(self,data) -> None:\n",
    "        self.data = data\n",
    "        pass\n",
    "    def split_recursive(self, chunk_size:int,chunk_overlap:int,sperators:list[str]):\n",
    "        Splitter = RecursiveCharacterTextSplitter(\n",
    "            separators=sperators,\n",
    "            chunk_size=chunk_size,\n",
    "            chunk_overlap=chunk_overlap\n",
    "        )\n",
    "        splits = Splitter.split_documents(self.data)\n",
    "        return splits"
   ]
  },
  {
   "cell_type": "markdown",
   "metadata": {},
   "source": [
    "Vectorization"
   ]
  },
  {
   "cell_type": "code",
   "execution_count": 8,
   "metadata": {},
   "outputs": [],
   "source": [
    "from langchain.vectorstores import FAISS\n",
    "from misterRetriveRite.utils.common import pickel_dump\n",
    "import os\n",
    "\n",
    "class Vectorizer():\n",
    "    def __init__(self,data_splits) -> None:\n",
    "        self.data_splits = data_splits\n",
    "    def build_vectorindex_with_faiss_and_openai(self, save_to_local:bool,file_dir:None,file_name:None):\n",
    "        from langchain.embeddings import OpenAIEmbeddings\n",
    "        embeddings = OpenAIEmbeddings()\n",
    "        vectorindex = FAISS.from_documents(self.data_splits, embeddings)\n",
    "        if save_to_local:\n",
    "            file_path = os.path.join(file_dir,file_name)\n",
    "            pickel_dump(file_path=file_path,data=vectorindex)\n",
    "            return vectorindex\n",
    "        return vectorindex\n",
    "    \n",
    "    def build_vectorindex_with_faiss_and_huggingface(self, model_name: str,save_to_local:bool,file_dir:None,file_name:None):\n",
    "        from langchain.embeddings.huggingface import HuggingFaceBgeEmbeddings\n",
    "        embeddings = HuggingFaceBgeEmbeddings(model_name = model_name)\n",
    "        vectorindex = FAISS.from_documents(self.data_splits, embeddings)\n",
    "        if save_to_local:\n",
    "            file_path = os.path.join(file_dir,file_name)\n",
    "            pickel_dump(file_path=file_path,data=vectorindex)\n",
    "            return vectorindex\n",
    "        return vectorindex\n",
    "\n",
    "\n"
   ]
  },
  {
   "cell_type": "markdown",
   "metadata": {},
   "source": [
    "Test    \n",
    "* load\n",
    "* split\n",
    "* vectorize\n",
    "* retrieve and prompt"
   ]
  },
  {
   "cell_type": "markdown",
   "metadata": {},
   "source": [
    "Load"
   ]
  },
  {
   "cell_type": "code",
   "execution_count": 9,
   "metadata": {},
   "outputs": [
    {
     "data": {
      "text/plain": [
       "list"
      ]
     },
     "execution_count": 9,
     "metadata": {},
     "output_type": "execute_result"
    }
   ],
   "source": [
    "urls = [\"https://www.muscleandfitness.com/features/feature-news/joey-swoll-hilariously-surprises-girl-as-she-films-herself-flexing/\",\n",
    "    \"https://www.muscleandfitness.com/flexonline/flex-news/lessons-being-learned-on-bodybuildings-best-podcasts/\"\n",
    "]\n",
    "type(urls)"
   ]
  },
  {
   "cell_type": "code",
   "execution_count": 10,
   "metadata": {},
   "outputs": [
    {
     "name": "stdout",
     "output_type": "stream",
     "text": [
      "[2024-03-18 15:30:07,170,INFO,xml,Reading document from string ...]\n",
      "[2024-03-18 15:30:07,179,INFO,html,Reading document ...]\n",
      "[2024-03-18 15:30:08,035,INFO,xml,Reading document from string ...]\n",
      "[2024-03-18 15:30:08,043,INFO,html,Reading document ...]\n",
      "[2024-03-18 15:30:08,081,INFO,3346600571,Data loaded from : ['https://www.muscleandfitness.com/features/feature-news/joey-swoll-hilariously-surprises-girl-as-she-films-herself-flexing/', 'https://www.muscleandfitness.com/flexonline/flex-news/lessons-being-learned-on-bodybuildings-best-podcasts/']]\n"
     ]
    }
   ],
   "source": [
    "data_loader = DataLoader()\n",
    "data = data_loader.load_from_url(urls=urls)"
   ]
  },
  {
   "cell_type": "markdown",
   "metadata": {},
   "source": [
    "Split"
   ]
  },
  {
   "cell_type": "code",
   "execution_count": 11,
   "metadata": {},
   "outputs": [],
   "source": [
    "splitter = Splitter(data=data)\n",
    "splits_rec = splitter.split_recursive(chunk_size=1000,chunk_overlap=50,sperators=['\\n\\n', '\\n', '.', ','])"
   ]
  },
  {
   "cell_type": "markdown",
   "metadata": {},
   "source": [
    "Vectorize"
   ]
  },
  {
   "cell_type": "code",
   "execution_count": 12,
   "metadata": {},
   "outputs": [
    {
     "name": "stdout",
     "output_type": "stream",
     "text": [
      "[2024-03-18 15:30:11,061,INFO,common,created directory at: artifacts]\n",
      "[2024-03-18 15:30:11,062,INFO,common,created directory at: artifacts/vector_db]\n"
     ]
    },
    {
     "data": {
      "text/plain": [
       "VectorizationConfig(root_dir='artifacts/vector_db', db_path='artifacts/vector_db', encoder_name='all-mpnet-base-v2', model_ckpt='None', data_path='None', k='None', num_of_cells='None', nprobe='None')"
      ]
     },
     "execution_count": 12,
     "metadata": {},
     "output_type": "execute_result"
    }
   ],
   "source": [
    "from misterRetriveRite.config.configurations import ConfigurationManager\n",
    "config = ConfigurationManager()\n",
    "vectorization_config = config.get_vectorization_config()\n",
    "vectorization_config"
   ]
  },
  {
   "cell_type": "code",
   "execution_count": 15,
   "metadata": {},
   "outputs": [
    {
     "name": "stdout",
     "output_type": "stream",
     "text": [
      "[2024-03-18 15:35:18,165,INFO,SentenceTransformer,Load pretrained SentenceTransformer: all-mpnet-base-v2]\n",
      "[2024-03-18 15:35:20,045,INFO,SentenceTransformer,Use pytorch device_name: cpu]\n"
     ]
    },
    {
     "name": "stderr",
     "output_type": "stream",
     "text": [
      "Batches: 100%|██████████| 2/2 [00:10<00:00,  5.46s/it]\n"
     ]
    },
    {
     "name": "stdout",
     "output_type": "stream",
     "text": [
      "[2024-03-18 15:35:31,502,INFO,common,created file at : artifacts/vector_db/faiss_Store_huggingface.pkl]\n"
     ]
    }
   ],
   "source": [
    "vectorizer = Vectorizer(data_splits=splits_rec)\n",
    "vector_index_huggingface = vectorizer.build_vectorindex_with_faiss_and_huggingface(model_name=vectorization_config.encoder_name, \n",
    "                                                                                   save_to_local=True,\n",
    "                                                                                   file_dir=vectorization_config.root_dir,\n",
    "                                                                                   file_name=\"faiss_Store_huggingface.pkl\")"
   ]
  },
  {
   "cell_type": "markdown",
   "metadata": {},
   "source": [
    "Prompt"
   ]
  },
  {
   "cell_type": "code",
   "execution_count": null,
   "metadata": {},
   "outputs": [],
   "source": [
    "from misterRetriveRite.utils.common import load_env\n",
    "load_env(\"\")\n"
   ]
  },
  {
   "cell_type": "code",
   "execution_count": null,
   "metadata": {},
   "outputs": [],
   "source": [
    "from langchain import OpenAI\n",
    "from langchain.chains import RetrievalQAWithSourcesChain\n",
    "\n",
    "llm = OpenAI(temperature=0.9, max_tokens=500, model='gpt-3.5-turbo-instruct' ) \n",
    "chain = RetrievalQAWithSourcesChain.from_llm(llm=llm, retriever=vector_index_huggingface.as_retriever())\n",
    "chain"
   ]
  },
  {
   "cell_type": "code",
   "execution_count": null,
   "metadata": {},
   "outputs": [],
   "source": [
    "result = chain({\"question\": \"hi\"}, return_only_outputs=True)\n",
    "result"
   ]
  }
 ],
 "metadata": {
  "kernelspec": {
   "display_name": "equityAnalyst",
   "language": "python",
   "name": "python3"
  },
  "language_info": {
   "codemirror_mode": {
    "name": "ipython",
    "version": 3
   },
   "file_extension": ".py",
   "mimetype": "text/x-python",
   "name": "python",
   "nbconvert_exporter": "python",
   "pygments_lexer": "ipython3",
   "version": "3.9.18"
  }
 },
 "nbformat": 4,
 "nbformat_minor": 2
}
